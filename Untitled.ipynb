{
 "cells": [
  {
   "cell_type": "markdown",
   "id": "4f8b2abb-3489-40e3-8f45-3e99aea7357f",
   "metadata": {},
   "source": [
    "My Jupyter Notebook on IBM Watson Studio"
   ]
  },
  {
   "cell_type": "markdown",
   "id": "eed3ccab-61e5-4766-ad91-091e06f7746e",
   "metadata": {},
   "source": [
    "| Hi | I am SUYASH |\n",
    "| ------| -----|\n",
    "| Currently working in Technical Publications Aerospace. | Desire to work as Data Scientist. |"
   ]
  },
  {
   "cell_type": "markdown",
   "id": "1fab3c5b-0b2f-4a61-8bde-44c5cf0a1777",
   "metadata": {},
   "source": [
    "I am interested in Data Science because it is helping us for finding solutions in easy manner and also we can predict what will happen in future and do the buisness planning accordingly. Also the data which we have generated all these years are now being utilized effectively.\n",
    "I want to be a part of this big step towards more developed humanity."
   ]
  },
  {
   "cell_type": "markdown",
   "id": "96c015bb-2329-4387-a105-f71d8907c2bb",
   "metadata": {},
   "source": [
    "We will be practicing code for displaying ( HOW ARE YOU DOING and the ANSWER for it)\n",
    "Also we will calculate basic math addition for 99 plus 99."
   ]
  },
  {
   "cell_type": "code",
   "execution_count": 5,
   "id": "5c4d2c2a-bb6d-4b07-bcfc-6144191d7c28",
   "metadata": {},
   "outputs": [
    {
     "name": "stdout",
     "output_type": "stream",
     "text": [
      "Hi,how are you doing?\n",
      "I am doing fine, thank you!\n"
     ]
    },
    {
     "data": {
      "text/plain": [
       "198"
      ]
     },
     "execution_count": 5,
     "metadata": {},
     "output_type": "execute_result"
    }
   ],
   "source": [
    "print(\"Hi,how are you doing?\")\n",
    "print(\"I am doing fine, thank you!\")\n",
    "99+99"
   ]
  },
  {
   "cell_type": "markdown",
   "id": "2c575535-02ba-4939-a119-4239751c3918",
   "metadata": {},
   "source": [
    "| Hey there | show me your smile |\n",
    "| ------ | ------ |\n",
    "| Hope you also fulfil your dream | All The Best |\n"
   ]
  },
  {
   "cell_type": "code",
   "execution_count": null,
   "id": "5791fce8-298f-49e7-b031-dc464c90f7f2",
   "metadata": {},
   "outputs": [],
   "source": []
  }
 ],
 "metadata": {
  "kernelspec": {
   "display_name": "Python",
   "language": "python",
   "name": "conda-env-python-py"
  },
  "language_info": {
   "codemirror_mode": {
    "name": "ipython",
    "version": 3
   },
   "file_extension": ".py",
   "mimetype": "text/x-python",
   "name": "python",
   "nbconvert_exporter": "python",
   "pygments_lexer": "ipython3",
   "version": "3.7.12"
  }
 },
 "nbformat": 4,
 "nbformat_minor": 5
}
